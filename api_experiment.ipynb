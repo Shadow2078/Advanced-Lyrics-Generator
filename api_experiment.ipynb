{
 "cells": [
  {
   "cell_type": "code",
   "execution_count": 1,
   "metadata": {},
   "outputs": [
    {
     "data": {
      "text/plain": [
       "True"
      ]
     },
     "execution_count": 1,
     "metadata": {},
     "output_type": "execute_result"
    }
   ],
   "source": [
    "from openai import OpenAI\n",
    "import dotenv\n",
    "import os\n",
    "\n",
    "dotenv.load_dotenv()"
   ]
  },
  {
   "cell_type": "code",
   "execution_count": 2,
   "metadata": {},
   "outputs": [
    {
     "name": "stdout",
     "output_type": "stream",
     "text": [
      "(Verse 1)\n",
      "Yo, it's the first day of college, stepping on the scene,\n",
      "Fresh kicks, new dreams, and a pocket full of green.\n",
      "Campus life, where the knowledge is supreme,\n",
      "Books stacked high, like a scholar's regime.\n",
      "\n",
      "Lecture halls echo with the wisdom of the ages,\n",
      "Professors drop gems, turning notes into pages.\n",
      "Late nights in the library, minds engaged in stages,\n",
      "Pulling all-nighters, we’re the modern-day sages.\n",
      "\n",
      "Dorm life buzzing, like a hive full of bees,\n",
      "Roommates from afar, sharing stories and degrees.\n",
      "Cafeteria lines, where we feast and appease,\n",
      "Conversations deep, like the roots of ancient trees.\n",
      "\n",
      "(Chorus)\n",
      "From the quad to the lab, we hustle and strive,\n",
      "Every step a lesson, every breath alive.\n",
      "In the halls of knowledge, where ambitions thrive,\n",
      "College days shaping futures, where dreams arrive.\n",
      "\n",
      "(Verse 2)\n",
      "Frat parties wild, like a carnival in town,\n",
      "But balance is key, can't let grades drown.\n",
      "Study groups form, like a battalion renowned,\n",
      "Solving life's puzzles, every piece profound.\n",
      "\n",
      "Professors spit facts, like lyrical tacticians,\n",
      "Guiding us through theories, with precision and vision.\n",
      "Seminars ignite minds, sparking ambition,\n",
      "Debates in classrooms, fueling our mission.\n",
      "\n",
      "Financial aid forms, like a maze to navigate,\n",
      "Scholarships and grants, help alleviate.\n",
      "Internships lined up, gotta cultivate,\n",
      "Experience in the field, where futures await.\n",
      "\n",
      "(Chorus)\n",
      "From the quad to the lab, we hustle and strive,\n",
      "Every step a lesson, every breath alive.\n",
      "In the halls of knowledge, where ambitions thrive,\n",
      "College days shaping futures, where dreams arrive.\n",
      "\n",
      "(Bridge)\n",
      "Cap and gown dreams, on the horizon they gleam,\n",
      "Walking that stage, fulfilling the scheme.\n",
      "Parents in the crowd, tears in their eyes beam,\n",
      "Proud of the journey, proud of the team.\n",
      "\n",
      "(Verse 3)\n",
      "Graduation day comes, like a dawn breaking bright,\n",
      "Degrees in hand, ready to take flight.\n",
      "Alumni status earned, with all our might,\n",
      "College memories cherished, in the glow of twilight.\n",
      "\n",
      "Now we step into the world, with knowledge as our guide,\n",
      "Facing challenges head-on, with courage and pride.\n",
      "From late-night cramming to the joy of high tide,\n",
      "College days behind us, but forever they reside.\n",
      "\n",
      "(Chorus)\n",
      "From the quad to the lab, we hustled and strived,\n",
      "Every step a lesson, every breath alive.\n",
      "In the halls of knowledge, where ambitions thrived,\n",
      "College days shaped futures, where dreams arrived.\n"
     ]
    }
   ],
   "source": [
    "client=OpenAI(api_key=os.getenv(\"OPENAI_API_KEY\"))\n",
    "\n",
    "prompt=\"Write a rap about a college \"\n",
    "\n",
    "response=client.chat.completions.create(\n",
    "    model=\"gpt-4o\",\n",
    "     messages=[\n",
    "        {\n",
    "            \"role\": \"system\",\n",
    "            \"content\": \"\"\"You are a talented rapper known for your clever wordplay, intricate rhymes, and profound storytelling. Your goal is to create rap lyrics that are both meaningful and engaging, showcasing advanced lyricism. The lyrics should include:\n",
    "                - Complex rhyme schemes and multi-syllabic rhymes\n",
    "                - Vivid imagery and descriptive language\n",
    "                - A strong narrative or theme\n",
    "                - Clever metaphors and similes\n",
    "                - A smooth flow and rhythm\n",
    "\n",
    "                Please write rap lyrics\"\"\"\n",
    "        },\n",
    "        {\n",
    "            \"role\": \"user\",\n",
    "            \"content\": prompt\n",
    "        }\n",
    "    ],\n",
    "    #optional parameteres\n",
    "    temperature=0.3,\n",
    "    max_tokens=1024,\n",
    "    top_p=1,\n",
    "    frequency_penalty=0.1,\n",
    "    presence_penalty=0.1,\n",
    "\n",
    ")\n",
    "\n",
    "print(response.choices[0].message.content)"
   ]
  }
 ],
 "metadata": {
  "kernelspec": {
   "display_name": "Python 3",
   "language": "python",
   "name": "python3"
  },
  "language_info": {
   "codemirror_mode": {
    "name": "ipython",
    "version": 3
   },
   "file_extension": ".py",
   "mimetype": "text/x-python",
   "name": "python",
   "nbconvert_exporter": "python",
   "pygments_lexer": "ipython3",
   "version": "3.12.4"
  }
 },
 "nbformat": 4,
 "nbformat_minor": 2
}
